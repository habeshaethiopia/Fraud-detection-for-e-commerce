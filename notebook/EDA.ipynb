{
 "cells": [
  {
   "cell_type": "code",
   "execution_count": 12,
   "metadata": {},
   "outputs": [
    {
     "name": "stdout",
     "output_type": "stream",
     "text": [
      "Loading data...\n",
      "EDA.ipynb  __init__.py\n"
     ]
    },
    {
     "name": "stderr",
     "output_type": "stream",
     "text": [
      "2025-02-09 16:11:35,052 - INFO - ✅  CSV file '../Data/creditcard.csv' loaded successfully.\n",
      "2025-02-09 16:11:35,422 - INFO - ✅  CSV file '../Data/Fraud_Data.csv' loaded successfully.\n",
      "2025-02-09 16:11:35,466 - INFO - ✅  CSV file '../Data/IpAddress_to_Country.csv' loaded successfully.\n"
     ]
    }
   ],
   "source": [
    "from os import path\n",
    "import sys\n",
    "sys.path.append(path.abspath(path.join(path.dirname(path.abspath('')), '.')))\n",
    "\n",
    "from scripts.data_cleaning import load_csv\n",
    "print (\"Loading data...\",)\n",
    "!ls\n",
    "credit_data = load_csv('../Data/creditcard.csv')\n",
    "fraud_data = load_csv('../Data/Fraud_Data.csv')\n",
    "ip_address = load_csv('../Data/IpAddress_to_Country.csv')"
   ]
  },
  {
   "cell_type": "code",
   "execution_count": null,
   "metadata": {},
   "outputs": [],
   "source": [
    "\n"
   ]
  }
 ],
 "metadata": {
  "kernelspec": {
   "display_name": ".venv",
   "language": "python",
   "name": "python3"
  },
  "language_info": {
   "codemirror_mode": {
    "name": "ipython",
    "version": 3
   },
   "file_extension": ".py",
   "mimetype": "text/x-python",
   "name": "python",
   "nbconvert_exporter": "python",
   "pygments_lexer": "ipython3",
   "version": "3.12.3"
  }
 },
 "nbformat": 4,
 "nbformat_minor": 2
}
