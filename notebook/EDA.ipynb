{
 "cells": [
  {
   "cell_type": "code",
   "execution_count": 1,
   "metadata": {},
   "outputs": [],
   "source": [
    "from os import path\n",
    "import sys\n",
    "sys.path.append(path.abspath(path.join(path.dirname(path.abspath('')), '.')))\n",
    "\n",
    "from scripts.data_cleaning import load_csv\n",
    "from scripts.data_cleaning import clean_dataframe\n"
   ]
  },
  {
   "cell_type": "code",
   "execution_count": 2,
   "metadata": {},
   "outputs": [
    {
     "name": "stdout",
     "output_type": "stream",
     "text": [
      "Loading data...\n"
     ]
    },
    {
     "name": "stderr",
     "output_type": "stream",
     "text": [
      "2025-02-09 16:52:33,297 - INFO - ✅  CSV file '../Data/creditcard.csv' loaded successfully.\n",
      "2025-02-09 16:52:33,671 - INFO - ✅  CSV file '../Data/Fraud_Data.csv' loaded successfully.\n",
      "2025-02-09 16:52:33,722 - INFO - ✅  CSV file '../Data/IpAddress_to_Country.csv' loaded successfully.\n"
     ]
    }
   ],
   "source": [
    "print (\"Loading data...\",)\n",
    "credit_data = load_csv('../Data/creditcard.csv')\n",
    "fraud_data = load_csv('../Data/Fraud_Data.csv')\n",
    "ip_address = load_csv('../Data/IpAddress_to_Country.csv')"
   ]
  },
  {
   "cell_type": "code",
   "execution_count": 3,
   "metadata": {},
   "outputs": [
    {
     "name": "stdout",
     "output_type": "stream",
     "text": [
      "   Time        V1        V2        V3        V4        V5        V6        V7  \\\n",
      "0   0.0 -1.359807 -0.072781  2.536347  1.378155 -0.338321  0.462388  0.239599   \n",
      "1   0.0  1.191857  0.266151  0.166480  0.448154  0.060018 -0.082361 -0.078803   \n",
      "2   1.0 -1.358354 -1.340163  1.773209  0.379780 -0.503198  1.800499  0.791461   \n",
      "3   1.0 -0.966272 -0.185226  1.792993 -0.863291 -0.010309  1.247203  0.237609   \n",
      "4   2.0 -1.158233  0.877737  1.548718  0.403034 -0.407193  0.095921  0.592941   \n",
      "\n",
      "         V8        V9  ...       V21       V22       V23       V24       V25  \\\n",
      "0  0.098698  0.363787  ... -0.018307  0.277838 -0.110474  0.066928  0.128539   \n",
      "1  0.085102 -0.255425  ... -0.225775 -0.638672  0.101288 -0.339846  0.167170   \n",
      "2  0.247676 -1.514654  ...  0.247998  0.771679  0.909412 -0.689281 -0.327642   \n",
      "3  0.377436 -1.387024  ... -0.108300  0.005274 -0.190321 -1.175575  0.647376   \n",
      "4 -0.270533  0.817739  ... -0.009431  0.798278 -0.137458  0.141267 -0.206010   \n",
      "\n",
      "        V26       V27       V28  Amount  Class  \n",
      "0 -0.189115  0.133558 -0.021053  149.62      0  \n",
      "1  0.125895 -0.008983  0.014724    2.69      0  \n",
      "2 -0.139097 -0.055353 -0.059752  378.66      0  \n",
      "3 -0.221929  0.062723  0.061458  123.50      0  \n",
      "4  0.502292  0.219422  0.215153   69.99      0  \n",
      "\n",
      "[5 rows x 31 columns]\n",
      "   user_id          signup_time        purchase_time  purchase_value  \\\n",
      "0    22058  2015-02-24 22:55:49  2015-04-18 02:47:11              34   \n",
      "1   333320  2015-06-07 20:39:50  2015-06-08 01:38:54              16   \n",
      "2     1359  2015-01-01 18:52:44  2015-01-01 18:52:45              15   \n",
      "3   150084  2015-04-28 21:13:25  2015-05-04 13:54:50              44   \n",
      "4   221365  2015-07-21 07:09:52  2015-09-09 18:40:53              39   \n",
      "\n",
      "       device_id source browser sex  age    ip_address  class  \n",
      "0  QVPSPJUOCKZAR    SEO  Chrome   M   39  7.327584e+08      0  \n",
      "1  EOGFQPIZPYXFZ    Ads  Chrome   F   53  3.503114e+08      0  \n",
      "2  YSSKYOSJHPPLJ    SEO   Opera   M   53  2.621474e+09      1  \n",
      "3  ATGTXKYKUDUQN    SEO  Safari   M   41  3.840542e+09      0  \n",
      "4  NAUITBZFJKHWW    Ads  Safari   M   45  4.155831e+08      0  \n",
      "   lower_bound_ip_address  upper_bound_ip_address    country\n",
      "0              16777216.0                16777471  Australia\n",
      "1              16777472.0                16777727      China\n",
      "2              16777728.0                16778239      China\n",
      "3              16778240.0                16779263  Australia\n",
      "4              16779264.0                16781311      China\n"
     ]
    }
   ],
   "source": [
    "print (credit_data.head())\n",
    "print (fraud_data.head())\n",
    "print (ip_address.head())\n"
   ]
  },
  {
   "cell_type": "code",
   "execution_count": 5,
   "metadata": {},
   "outputs": [
    {
     "name": "stderr",
     "output_type": "stream",
     "text": [
      "2025-02-09 16:52:54,923 - INFO - Starting data cleaning...\n",
      "2025-02-09 16:52:54,924 - INFO - Initial shape: (283726, 31)\n",
      "2025-02-09 16:52:54,925 - INFO - Initial columns: ['Time', 'V1', 'V2', 'V3', 'V4', 'V5', 'V6', 'V7', 'V8', 'V9', 'V10', 'V11', 'V12', 'V13', 'V14', 'V15', 'V16', 'V17', 'V18', 'V19', 'V20', 'V21', 'V22', 'V23', 'V24', 'V25', 'V26', 'V27', 'V28', 'Amount', 'Class']\n",
      "2025-02-09 16:52:54,925 - INFO - Processing missing values...\n",
      "2025-02-09 16:52:54,942 - INFO - Missing values per column:\n",
      "Time      0\n",
      "V1        0\n",
      "V2        0\n",
      "V3        0\n",
      "V4        0\n",
      "V5        0\n",
      "V6        0\n",
      "V7        0\n",
      "V8        0\n",
      "V9        0\n",
      "V10       0\n",
      "V11       0\n",
      "V12       0\n",
      "V13       0\n",
      "V14       0\n",
      "V15       0\n",
      "V16       0\n",
      "V17       0\n",
      "V18       0\n",
      "V19       0\n",
      "V20       0\n",
      "V21       0\n",
      "V22       0\n",
      "V23       0\n",
      "V24       0\n",
      "V25       0\n",
      "V26       0\n",
      "V27       0\n",
      "V28       0\n",
      "Amount    0\n",
      "Class     0\n",
      "dtype: int64\n",
      "2025-02-09 16:52:55,013 - INFO - Removing duplicates...\n"
     ]
    },
    {
     "name": "stdout",
     "output_type": "stream",
     "text": [
      "Cleaning data...\n"
     ]
    },
    {
     "name": "stderr",
     "output_type": "stream",
     "text": [
      "2025-02-09 16:52:55,564 - INFO - Removed 0 duplicate rows.\n",
      "2025-02-09 16:52:55,565 - INFO - Correcting data types...\n",
      "2025-02-09 16:52:55,565 - INFO - Final shape after cleaning: (283726, 31)\n",
      "2025-02-09 16:52:55,566 - INFO - Data cleaning completed successfully.\n",
      "\n",
      "2025-02-09 16:52:55,566 - INFO - Starting data cleaning...\n",
      "2025-02-09 16:52:55,567 - INFO - Initial shape: (151112, 11)\n",
      "2025-02-09 16:52:55,568 - INFO - Initial columns: ['user_id', 'signup_time', 'purchase_time', 'purchase_value', 'device_id', 'source', 'browser', 'sex', 'age', 'ip_address', 'class']\n",
      "2025-02-09 16:52:55,569 - INFO - Processing missing values...\n",
      "2025-02-09 16:52:55,612 - INFO - Missing values per column:\n",
      "user_id           0\n",
      "signup_time       0\n",
      "purchase_time     0\n",
      "purchase_value    0\n",
      "device_id         0\n",
      "source            0\n",
      "browser           0\n",
      "sex               0\n",
      "age               0\n",
      "ip_address        0\n",
      "class             0\n",
      "dtype: int64\n",
      "2025-02-09 16:52:55,695 - INFO - Removing duplicates...\n",
      "2025-02-09 16:52:55,861 - INFO - Removed 0 duplicate rows.\n",
      "2025-02-09 16:52:55,862 - INFO - Correcting data types...\n",
      "2025-02-09 16:52:55,903 - INFO - Converted 'signup_time' to datetime.\n",
      "2025-02-09 16:52:55,945 - INFO - Converted 'purchase_time' to datetime.\n",
      "2025-02-09 16:52:55,946 - INFO - Final shape after cleaning: (151112, 11)\n",
      "2025-02-09 16:52:55,946 - INFO - Data cleaning completed successfully.\n",
      "\n",
      "2025-02-09 16:52:55,947 - INFO - Starting data cleaning...\n",
      "2025-02-09 16:52:55,947 - INFO - Initial shape: (138846, 3)\n",
      "2025-02-09 16:52:55,948 - INFO - Initial columns: ['lower_bound_ip_address', 'upper_bound_ip_address', 'country']\n",
      "2025-02-09 16:52:55,948 - INFO - Processing missing values...\n",
      "2025-02-09 16:52:55,960 - INFO - Missing values per column:\n",
      "lower_bound_ip_address    0\n",
      "upper_bound_ip_address    0\n",
      "country                   0\n",
      "dtype: int64\n",
      "2025-02-09 16:52:55,970 - INFO - Removing duplicates...\n",
      "2025-02-09 16:52:56,006 - INFO - Removed 0 duplicate rows.\n",
      "2025-02-09 16:52:56,007 - INFO - Correcting data types...\n",
      "2025-02-09 16:52:56,008 - INFO - Final shape after cleaning: (138846, 3)\n",
      "2025-02-09 16:52:56,009 - INFO - Data cleaning completed successfully.\n",
      "\n"
     ]
    }
   ],
   "source": [
    "print (\"Cleaning data...\",)\n",
    "credit_data = clean_dataframe(credit_data)\n",
    "fraud_data = clean_dataframe(fraud_data)\n",
    "ip_address = clean_dataframe(ip_address)"
   ]
  }
 ],
 "metadata": {
  "kernelspec": {
   "display_name": ".venv",
   "language": "python",
   "name": "python3"
  },
  "language_info": {
   "codemirror_mode": {
    "name": "ipython",
    "version": 3
   },
   "file_extension": ".py",
   "mimetype": "text/x-python",
   "name": "python",
   "nbconvert_exporter": "python",
   "pygments_lexer": "ipython3",
   "version": "3.12.3"
  }
 },
 "nbformat": 4,
 "nbformat_minor": 2
}
