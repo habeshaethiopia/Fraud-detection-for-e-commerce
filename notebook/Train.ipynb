{
 "cells": [
  {
   "cell_type": "code",
   "execution_count": 8,
   "metadata": {},
   "outputs": [],
   "source": [
    "from os import path\n",
    "import sys\n",
    "sys.path.append(path.abspath(path.join(path.dirname(path.abspath('')), '.')))\n",
    "\n",
    "from scripts.data_cleaning import load_csv, univariate_analysis, bivariate_analysis,correlation_matrix\n",
    "from scripts.data_cleaning import clean_dataframe, analyze_and_remove_duplicates, analyze_categorical_features\n"
   ]
  },
  {
   "cell_type": "code",
   "execution_count": 9,
   "metadata": {},
   "outputs": [
    {
     "name": "stdout",
     "output_type": "stream",
     "text": [
      "Loading data...\n"
     ]
    },
    {
     "name": "stderr",
     "output_type": "stream",
     "text": [
      "2025-02-17 22:21:58,073 - INFO - ✅  CSV file '../Data/creditcard.csv' loaded successfully.\n",
      "2025-02-17 22:21:58,233 - INFO - ✅  CSV file '../Data/fraud_data_cleaned.csv' loaded successfully.\n"
     ]
    }
   ],
   "source": [
    "print (\"Loading data...\",)\n",
    "creditcard_data = load_csv('../Data/creditcard.csv')\n",
    "fraud_data = load_csv('../Data/fraud_data_cleaned.csv')\n"
   ]
  },
  {
   "cell_type": "code",
   "execution_count": 30,
   "metadata": {},
   "outputs": [
    {
     "data": {
      "text/plain": [
       "<Experiment: artifact_location='/home/adane/Repository/Fraud-detection-for-e-commerce/notebook/../mlruns/781522624226821569', creation_time=1739813532949, experiment_id='781522624226821569', last_update_time=1739813532949, lifecycle_stage='active', name='Fraud Detection Experiment', tags={}>"
      ]
     },
     "execution_count": 30,
     "metadata": {},
     "output_type": "execute_result"
    }
   ],
   "source": [
    "import mlflow\n",
    "from mlflow.sklearn import log_model\n",
    "# Set the tracking URI (local or remote)\n",
    "mlflow.set_tracking_uri(\"../mlruns\")  # Default is ./mlruns\n",
    "\n",
    "# Create or set an experiment\n",
    "experiment_name = \"Fraud Detection Experiment\"\n",
    "mlflow.set_experiment(experiment_name)"
   ]
  },
  {
   "cell_type": "code",
   "execution_count": 33,
   "metadata": {},
   "outputs": [],
   "source": [
    "from mlflow.models.signature import infer_signature\n",
    "def train_and_evaluate(model, X_train, X_test, y_train, y_test, run_name):\n",
    "    with mlflow.start_run(run_name=run_name):\n",
    "        # Log parameters\n",
    "        mlflow.log_param(\"model\", type(model).__name__)\n",
    "        \n",
    "        # Train the model\n",
    "        model.fit(X_train, y_train)\n",
    "        # Infer the signature\n",
    "        signature = infer_signature(X_train, y_train)\n",
    "\n",
    "        # Create an input example\n",
    "        input_example = X_train.iloc[:5]\n",
    "        # Predict on test data\n",
    "        y_pred = model.predict(X_test)\n",
    "        \n",
    "        # Calculate metrics\n",
    "        accuracy = accuracy_score(y_test, y_pred)\n",
    "        precision = precision_score(y_test, y_pred)\n",
    "        recall = recall_score(y_test, y_pred)\n",
    "        f1 = f1_score(y_test, y_pred)\n",
    "        \n",
    "        # Log metrics\n",
    "        mlflow.log_metric(\"accuracy\", accuracy)\n",
    "        mlflow.log_metric(\"precision\", precision)\n",
    "        mlflow.log_metric(\"recall\", recall)\n",
    "        mlflow.log_metric(\"f1_score\", f1)\n",
    "        \n",
    "        # Log the model\n",
    "        mlflow.sklearn.log_model(model, \"model\",signature=signature,\n",
    "        input_example=input_example)"
   ]
  },
  {
   "cell_type": "code",
   "execution_count": 19,
   "metadata": {},
   "outputs": [],
   "source": [
    "# Separate features and target for creditcard.csv\n",
    "X_creditcard = creditcard_data.drop(columns=['Class'])\n",
    "y_creditcard = creditcard_data['Class']\n",
    "\n",
    "# Separate features and target for Fraud_Data.csv\n",
    "X_fraud = fraud_data.drop(columns=['class'])\n",
    "y_fraud = fraud_data['class']"
   ]
  },
  {
   "cell_type": "code",
   "execution_count": 13,
   "metadata": {},
   "outputs": [],
   "source": [
    "from sklearn.model_selection import train_test_split\n",
    "\n",
    "# Split for creditcard.csv\n",
    "X_train_cc, X_test_cc, y_train_cc, y_test_cc = train_test_split(\n",
    "    X_creditcard, y_creditcard, test_size=0.2, random_state=42, stratify=y_creditcard\n",
    ")\n",
    "\n",
    "# Split for Fraud_Data.csv\n",
    "X_train_fd, X_test_fd, y_train_fd, y_test_fd = train_test_split(\n",
    "    X_fraud, y_fraud, test_size=0.2, random_state=42, stratify=y_fraud\n",
    ")"
   ]
  },
  {
   "cell_type": "code",
   "execution_count": 35,
   "metadata": {},
   "outputs": [
    {
     "name": "stderr",
     "output_type": "stream",
     "text": [
      "/home/adane/Repository/Fraud-detection-for-e-commerce/.venv/lib/python3.12/site-packages/sklearn/linear_model/_logistic.py:465: ConvergenceWarning: lbfgs failed to converge (status=1):\n",
      "STOP: TOTAL NO. OF ITERATIONS REACHED LIMIT.\n",
      "\n",
      "Increase the number of iterations (max_iter) or scale the data as shown in:\n",
      "    https://scikit-learn.org/stable/modules/preprocessing.html\n",
      "Please also refer to the documentation for alternative solver options:\n",
      "    https://scikit-learn.org/stable/modules/linear_model.html#logistic-regression\n",
      "  n_iter_i = _check_optimize_result(\n"
     ]
    },
    {
     "name": "stdout",
     "output_type": "stream",
     "text": [
      "Logistic Regression (Credit Card):\n"
     ]
    },
    {
     "name": "stderr",
     "output_type": "stream",
     "text": [
      "/home/adane/Repository/Fraud-detection-for-e-commerce/.venv/lib/python3.12/site-packages/sklearn/linear_model/_logistic.py:465: ConvergenceWarning: lbfgs failed to converge (status=1):\n",
      "STOP: TOTAL NO. OF ITERATIONS REACHED LIMIT.\n",
      "\n",
      "Increase the number of iterations (max_iter) or scale the data as shown in:\n",
      "    https://scikit-learn.org/stable/modules/preprocessing.html\n",
      "Please also refer to the documentation for alternative solver options:\n",
      "    https://scikit-learn.org/stable/modules/linear_model.html#logistic-regression\n",
      "  n_iter_i = _check_optimize_result(\n",
      "/home/adane/Repository/Fraud-detection-for-e-commerce/.venv/lib/python3.12/site-packages/mlflow/types/utils.py:452: UserWarning: Hint: Inferred schema contains integer column(s). Integer columns in Python cannot represent missing values. If your input data contains missing values at inference time, it will be encoded as floats and will cause a schema enforcement error. The best way to avoid this problem is to infer the model schema based on a realistic data sample (training dataset) that includes missing values. Alternatively, you can declare integer columns as doubles (float64) whenever these columns may have missing values. See `Handling Integers With Missing Values <https://www.mlflow.org/docs/latest/models.html#handling-integers-with-missing-values>`_ for more details.\n",
      "  warnings.warn(\n"
     ]
    }
   ],
   "source": [
    "from sklearn.linear_model import LogisticRegression\n",
    "from sklearn.metrics import accuracy_score, precision_score, recall_score, f1_score\n",
    "\n",
    "# Initialize and train the model for creditcard.csv\n",
    "lr_cc = LogisticRegression(max_iter=1000, random_state=42)\n",
    "lr_cc.fit(X_train_cc, y_train_cc)\n",
    "\n",
    "# Predict and evaluate\n",
    "y_pred_cc_lr = lr_cc.predict(X_test_cc)\n",
    "print(\"Logistic Regression (Credit Card):\")\n",
    "train_and_evaluate(lr_cc, X_train_cc, X_test_cc, y_train_cc, y_test_cc, \"Logistic Regression creditcard\")"
   ]
  },
  {
   "cell_type": "code",
   "execution_count": 34,
   "metadata": {},
   "outputs": [
    {
     "name": "stdout",
     "output_type": "stream",
     "text": [
      "\n",
      "Logistic Regression (Fraud Data):\n"
     ]
    },
    {
     "name": "stderr",
     "output_type": "stream",
     "text": [
      "/home/adane/Repository/Fraud-detection-for-e-commerce/.venv/lib/python3.12/site-packages/mlflow/types/utils.py:452: UserWarning: Hint: Inferred schema contains integer column(s). Integer columns in Python cannot represent missing values. If your input data contains missing values at inference time, it will be encoded as floats and will cause a schema enforcement error. The best way to avoid this problem is to infer the model schema based on a realistic data sample (training dataset) that includes missing values. Alternatively, you can declare integer columns as doubles (float64) whenever these columns may have missing values. See `Handling Integers With Missing Values <https://www.mlflow.org/docs/latest/models.html#handling-integers-with-missing-values>`_ for more details.\n",
      "  warnings.warn(\n"
     ]
    }
   ],
   "source": [
    "\n",
    "# Repeat for Fraud_Data.csv\n",
    "lr_fd = LogisticRegression(max_iter=1000, random_state=42,class_weight='balanced')\n",
    "lr_fd.fit(X_train_fd, y_train_fd)\n",
    "y_pred_fd_lr = lr_fd.predict(X_test_fd)\n",
    "print(\"\\nLogistic Regression (Fraud Data):\")\n",
    "train_and_evaluate(lr_fd, X_train_fd, X_test_fd, y_train_fd, y_test_fd, \"Logistic Regression fraud_data\")\n"
   ]
  },
  {
   "cell_type": "code",
   "execution_count": 36,
   "metadata": {},
   "outputs": [
    {
     "name": "stderr",
     "output_type": "stream",
     "text": [
      "/home/adane/Repository/Fraud-detection-for-e-commerce/.venv/lib/python3.12/site-packages/mlflow/types/utils.py:452: UserWarning: Hint: Inferred schema contains integer column(s). Integer columns in Python cannot represent missing values. If your input data contains missing values at inference time, it will be encoded as floats and will cause a schema enforcement error. The best way to avoid this problem is to infer the model schema based on a realistic data sample (training dataset) that includes missing values. Alternatively, you can declare integer columns as doubles (float64) whenever these columns may have missing values. See `Handling Integers With Missing Values <https://www.mlflow.org/docs/latest/models.html#handling-integers-with-missing-values>`_ for more details.\n",
      "  warnings.warn(\n"
     ]
    },
    {
     "name": "stdout",
     "output_type": "stream",
     "text": [
      "Random Forest (Credit Card):\n",
      "\n",
      "Random Forest (Fraud Data):\n"
     ]
    },
    {
     "name": "stderr",
     "output_type": "stream",
     "text": [
      "/home/adane/Repository/Fraud-detection-for-e-commerce/.venv/lib/python3.12/site-packages/mlflow/types/utils.py:452: UserWarning: Hint: Inferred schema contains integer column(s). Integer columns in Python cannot represent missing values. If your input data contains missing values at inference time, it will be encoded as floats and will cause a schema enforcement error. The best way to avoid this problem is to infer the model schema based on a realistic data sample (training dataset) that includes missing values. Alternatively, you can declare integer columns as doubles (float64) whenever these columns may have missing values. See `Handling Integers With Missing Values <https://www.mlflow.org/docs/latest/models.html#handling-integers-with-missing-values>`_ for more details.\n",
      "  warnings.warn(\n"
     ]
    }
   ],
   "source": [
    "from sklearn.ensemble import RandomForestClassifier\n",
    "\n",
    "# Initialize and train the model for creditcard.csv\n",
    "rf_cc = RandomForestClassifier(n_estimators=100, random_state=42)\n",
    "rf_cc.fit(X_train_cc, y_train_cc)\n",
    "\n",
    "# Predict and evaluate\n",
    "y_pred_cc_rf = rf_cc.predict(X_test_cc)\n",
    "train_and_evaluate(rf_cc, X_train_cc, X_test_cc, y_train_cc, y_test_cc, \"Random Forest creditcard\")\n",
    "\n",
    "print(\"Random Forest (Credit Card):\")\n",
    "\n",
    "\n",
    "# Repeat for Fraud_Data.csv\n",
    "rf_fd = RandomForestClassifier(n_estimators=100, random_state=42)\n",
    "rf_fd.fit(X_train_fd, y_train_fd)\n",
    "y_pred_fd_rf = rf_fd.predict(X_test_fd)\n",
    "print(\"\\nRandom Forest (Fraud Data):\")\n",
    "train_and_evaluate(rf_fd, X_train_fd, X_test_fd, y_train_fd, y_test_fd, \"Random Forest fraud_data\")\n"
   ]
  }
 ],
 "metadata": {
  "kernelspec": {
   "display_name": ".venv",
   "language": "python",
   "name": "python3"
  },
  "language_info": {
   "codemirror_mode": {
    "name": "ipython",
    "version": 3
   },
   "file_extension": ".py",
   "mimetype": "text/x-python",
   "name": "python",
   "nbconvert_exporter": "python",
   "pygments_lexer": "ipython3",
   "version": "3.12.3"
  }
 },
 "nbformat": 4,
 "nbformat_minor": 2
}
